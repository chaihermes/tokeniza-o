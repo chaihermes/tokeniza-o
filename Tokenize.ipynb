{
  "nbformat": 4,
  "nbformat_minor": 0,
  "metadata": {
    "colab": {
      "provenance": [],
      "authorship_tag": "ABX9TyNJi17lGpwMLTsi+FNJgyiN",
      "include_colab_link": true
    },
    "kernelspec": {
      "name": "python3",
      "display_name": "Python 3"
    },
    "language_info": {
      "name": "python"
    }
  },
  "cells": [
    {
      "cell_type": "markdown",
      "metadata": {
        "id": "view-in-github",
        "colab_type": "text"
      },
      "source": [
        "<a href=\"https://colab.research.google.com/github/chaihermes/tokeniza-o/blob/main/Tokenize.ipynb\" target=\"_parent\"><img src=\"https://colab.research.google.com/assets/colab-badge.svg\" alt=\"Open In Colab\"/></a>"
      ]
    },
    {
      "cell_type": "code",
      "execution_count": null,
      "metadata": {
        "colab": {
          "base_uri": "https://localhost:8080/"
        },
        "id": "EiWVVdWMtQU5",
        "outputId": "0549869d-5726-4b14-d80c-a94aaf5ee0be"
      },
      "outputs": [
        {
          "output_type": "execute_result",
          "data": {
            "text/plain": [
              "FreqDist({'Muito bom este produto': 1, 'Muito ruim este produto': 1})"
            ]
          },
          "metadata": {},
          "execution_count": 1
        }
      ],
      "source": [
        "import nltk\n",
        "\n",
        "corpus = [\"Muito bom este produto\", \"Muito ruim este produto\"]\n",
        "frequencia = nltk.FreqDist(corpus)\n",
        "frequencia"
      ]
    },
    {
      "cell_type": "code",
      "source": [
        "from nltk import tokenize\n",
        "\n",
        "frase = \"Muito bom este produto\"\n",
        "\n",
        "token_por_espaço = tokenize.WhitespaceTokenizer()\n",
        "token_frase = token_por_espaço.tokenize(frase)\n",
        "token_frase"
      ],
      "metadata": {
        "colab": {
          "base_uri": "https://localhost:8080/"
        },
        "id": "SRIvP-3ouWze",
        "outputId": "719459db-96d4-4dfa-9cc4-21edea10289d"
      },
      "execution_count": null,
      "outputs": [
        {
          "output_type": "execute_result",
          "data": {
            "text/plain": [
              "['Muito', 'bom', 'este', 'produto']"
            ]
          },
          "metadata": {},
          "execution_count": 2
        }
      ]
    },
    {
      "cell_type": "code",
      "source": [
        "token_por_espaço = tokenize.WhitespaceTokenizer()\n",
        "token_dataset = token_por_espaço.tokenize(todas_palavras)\n",
        "frequencia = nltk.FreqDist(token_dataset)"
      ],
      "metadata": {
        "id": "TDBR78l6u0W6"
      },
      "execution_count": null,
      "outputs": []
    }
  ]
}